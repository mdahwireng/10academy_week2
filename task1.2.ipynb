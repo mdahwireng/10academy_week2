{
 "cells": [
  {
   "cell_type": "code",
   "execution_count": 145,
   "id": "ec27d1a5",
   "metadata": {},
   "outputs": [],
   "source": [
    "import pandas as pd\n",
    "import numpy as np\n",
    "from sklearn.base import BaseEstimator, TransformerMixin\n",
    "from sklearn.pipeline import Pipeline\n",
    "from sklearn.preprocessing import OneHotEncoder, StandardScaler\n",
    "from sklearn.compose import ColumnTransformer\n",
    "from sklearn.ensemble import GradientBoostingClassifier\n",
    "from sklearn.model_selection import cross_val_score\n"
   ]
  },
  {
   "cell_type": "markdown",
   "id": "914f0135",
   "metadata": {},
   "source": [
    "## Read data"
   ]
  },
  {
   "cell_type": "code",
   "execution_count": 117,
   "id": "436eb80c",
   "metadata": {},
   "outputs": [],
   "source": [
    "df = pd.read_csv('./data/AdSmartABdata.csv', parse_dates=['date'])"
   ]
  },
  {
   "cell_type": "code",
   "execution_count": 118,
   "id": "d1d36b31",
   "metadata": {},
   "outputs": [
    {
     "name": "stdout",
     "output_type": "stream",
     "text": [
      "<class 'pandas.core.frame.DataFrame'>\n",
      "RangeIndex: 8077 entries, 0 to 8076\n",
      "Data columns (total 9 columns):\n",
      " #   Column       Non-Null Count  Dtype         \n",
      "---  ------       --------------  -----         \n",
      " 0   auction_id   8077 non-null   object        \n",
      " 1   experiment   8077 non-null   object        \n",
      " 2   date         8077 non-null   datetime64[ns]\n",
      " 3   hour         8077 non-null   int64         \n",
      " 4   device_make  8077 non-null   object        \n",
      " 5   platform_os  8077 non-null   int64         \n",
      " 6   browser      8077 non-null   object        \n",
      " 7   yes          8077 non-null   int64         \n",
      " 8   no           8077 non-null   int64         \n",
      "dtypes: datetime64[ns](1), int64(4), object(4)\n",
      "memory usage: 568.0+ KB\n"
     ]
    }
   ],
   "source": [
    "df.info()"
   ]
  },
  {
   "cell_type": "code",
   "execution_count": 119,
   "id": "311c8dd9",
   "metadata": {},
   "outputs": [
    {
     "data": {
      "text/html": [
       "<div>\n",
       "<style scoped>\n",
       "    .dataframe tbody tr th:only-of-type {\n",
       "        vertical-align: middle;\n",
       "    }\n",
       "\n",
       "    .dataframe tbody tr th {\n",
       "        vertical-align: top;\n",
       "    }\n",
       "\n",
       "    .dataframe thead th {\n",
       "        text-align: right;\n",
       "    }\n",
       "</style>\n",
       "<table border=\"1\" class=\"dataframe\">\n",
       "  <thead>\n",
       "    <tr style=\"text-align: right;\">\n",
       "      <th></th>\n",
       "      <th>hour</th>\n",
       "      <th>platform_os</th>\n",
       "      <th>yes</th>\n",
       "      <th>no</th>\n",
       "    </tr>\n",
       "  </thead>\n",
       "  <tbody>\n",
       "    <tr>\n",
       "      <th>count</th>\n",
       "      <td>8077.000000</td>\n",
       "      <td>8077.000000</td>\n",
       "      <td>8077.000000</td>\n",
       "      <td>8077.000000</td>\n",
       "    </tr>\n",
       "    <tr>\n",
       "      <th>mean</th>\n",
       "      <td>11.615080</td>\n",
       "      <td>5.947134</td>\n",
       "      <td>0.070818</td>\n",
       "      <td>0.083075</td>\n",
       "    </tr>\n",
       "    <tr>\n",
       "      <th>std</th>\n",
       "      <td>5.734879</td>\n",
       "      <td>0.224333</td>\n",
       "      <td>0.256537</td>\n",
       "      <td>0.276013</td>\n",
       "    </tr>\n",
       "    <tr>\n",
       "      <th>min</th>\n",
       "      <td>0.000000</td>\n",
       "      <td>5.000000</td>\n",
       "      <td>0.000000</td>\n",
       "      <td>0.000000</td>\n",
       "    </tr>\n",
       "    <tr>\n",
       "      <th>25%</th>\n",
       "      <td>7.000000</td>\n",
       "      <td>6.000000</td>\n",
       "      <td>0.000000</td>\n",
       "      <td>0.000000</td>\n",
       "    </tr>\n",
       "    <tr>\n",
       "      <th>50%</th>\n",
       "      <td>13.000000</td>\n",
       "      <td>6.000000</td>\n",
       "      <td>0.000000</td>\n",
       "      <td>0.000000</td>\n",
       "    </tr>\n",
       "    <tr>\n",
       "      <th>75%</th>\n",
       "      <td>15.000000</td>\n",
       "      <td>6.000000</td>\n",
       "      <td>0.000000</td>\n",
       "      <td>0.000000</td>\n",
       "    </tr>\n",
       "    <tr>\n",
       "      <th>max</th>\n",
       "      <td>23.000000</td>\n",
       "      <td>7.000000</td>\n",
       "      <td>1.000000</td>\n",
       "      <td>1.000000</td>\n",
       "    </tr>\n",
       "  </tbody>\n",
       "</table>\n",
       "</div>"
      ],
      "text/plain": [
       "              hour  platform_os          yes           no\n",
       "count  8077.000000  8077.000000  8077.000000  8077.000000\n",
       "mean     11.615080     5.947134     0.070818     0.083075\n",
       "std       5.734879     0.224333     0.256537     0.276013\n",
       "min       0.000000     5.000000     0.000000     0.000000\n",
       "25%       7.000000     6.000000     0.000000     0.000000\n",
       "50%      13.000000     6.000000     0.000000     0.000000\n",
       "75%      15.000000     6.000000     0.000000     0.000000\n",
       "max      23.000000     7.000000     1.000000     1.000000"
      ]
     },
     "execution_count": 119,
     "metadata": {},
     "output_type": "execute_result"
    }
   ],
   "source": [
    "df.describe()"
   ]
  },
  {
   "cell_type": "code",
   "execution_count": 120,
   "id": "9a307725",
   "metadata": {},
   "outputs": [
    {
     "name": "stdout",
     "output_type": "stream",
     "text": [
      "<class 'pandas.core.frame.DataFrame'>\n",
      "RangeIndex: 8077 entries, 0 to 8076\n",
      "Data columns (total 9 columns):\n",
      " #   Column       Non-Null Count  Dtype         \n",
      "---  ------       --------------  -----         \n",
      " 0   auction_id   8077 non-null   object        \n",
      " 1   experiment   8077 non-null   object        \n",
      " 2   date         8077 non-null   datetime64[ns]\n",
      " 3   hour         8077 non-null   int64         \n",
      " 4   device_make  8077 non-null   object        \n",
      " 5   platform_os  8077 non-null   int64         \n",
      " 6   browser      8077 non-null   object        \n",
      " 7   yes          8077 non-null   int64         \n",
      " 8   no           8077 non-null   int64         \n",
      "dtypes: datetime64[ns](1), int64(4), object(4)\n",
      "memory usage: 568.0+ KB\n"
     ]
    }
   ],
   "source": [
    "df.info()"
   ]
  },
  {
   "cell_type": "markdown",
   "id": "5278b5b0",
   "metadata": {},
   "source": [
    "# Counts of categorical Variables"
   ]
  },
  {
   "cell_type": "markdown",
   "id": "06652027",
   "metadata": {},
   "source": [
    "## Experiment value counts"
   ]
  },
  {
   "cell_type": "code",
   "execution_count": 121,
   "id": "b11f3657",
   "metadata": {},
   "outputs": [
    {
     "data": {
      "text/plain": [
       "control    4071\n",
       "exposed    4006\n",
       "Name: experiment, dtype: int64"
      ]
     },
     "execution_count": 121,
     "metadata": {},
     "output_type": "execute_result"
    }
   ],
   "source": [
    "df['experiment'].value_counts()"
   ]
  },
  {
   "cell_type": "markdown",
   "id": "c62a3ebb",
   "metadata": {},
   "source": [
    "## Experiment value visualization"
   ]
  },
  {
   "cell_type": "code",
   "execution_count": 122,
   "id": "bc04be26",
   "metadata": {
    "scrolled": false
   },
   "outputs": [
    {
     "data": {
      "text/plain": [
       "<AxesSubplot:>"
      ]
     },
     "execution_count": 122,
     "metadata": {},
     "output_type": "execute_result"
    },
    {
     "data": {
      "image/png": "[encoded data removed]",
      "text/plain": [
       "<Figure size 432x288 with 1 Axes>"
      ]
     },
     "metadata": {
      "needs_background": "light"
     },
     "output_type": "display_data"
    }
   ],
   "source": [
    "df['experiment'].value_counts().plot(kind='bar')"
   ]
  },
  {
   "cell_type": "markdown",
   "id": "9ec65927",
   "metadata": {},
   "source": [
    "## Device make value counts"
   ]
  },
  {
   "cell_type": "code",
   "execution_count": 123,
   "id": "36f54444",
   "metadata": {
    "scrolled": true
   },
   "outputs": [
    {
     "data": {
      "text/plain": [
       "Generic Smartphone    4743\n",
       "iPhone                 433\n",
       "Samsung SM-G960F       203\n",
       "Samsung SM-G973F       154\n",
       "Samsung SM-G950F       148\n",
       "                      ... \n",
       "Samsung SM-N9500         1\n",
       "VF-795                   1\n",
       "Samsung SM-G930V         1\n",
       "Samsung SM-G930L         1\n",
       "Samsung SM-J701F         1\n",
       "Name: device_make, Length: 270, dtype: int64"
      ]
     },
     "execution_count": 123,
     "metadata": {},
     "output_type": "execute_result"
    }
   ],
   "source": [
    "df['device_make'].value_counts()"
   ]
  },
  {
   "cell_type": "markdown",
   "id": "7fa5663d",
   "metadata": {},
   "source": [
    "## Browser value counts"
   ]
  },
  {
   "cell_type": "code",
   "execution_count": 124,
   "id": "170e5eae",
   "metadata": {},
   "outputs": [
    {
     "data": {
      "text/plain": [
       "Chrome Mobile                 4554\n",
       "Chrome Mobile WebView         1489\n",
       "Samsung Internet               824\n",
       "Facebook                       764\n",
       "Mobile Safari                  337\n",
       "Chrome Mobile iOS               51\n",
       "Mobile Safari UI/WKWebView      44\n",
       "Opera Mobile                     3\n",
       "Pinterest                        3\n",
       "Chrome                           3\n",
       "Puffin                           1\n",
       "Firefox Mobile                   1\n",
       "Opera Mini                       1\n",
       "Android                          1\n",
       "Edge Mobile                      1\n",
       "Name: browser, dtype: int64"
      ]
     },
     "execution_count": 124,
     "metadata": {},
     "output_type": "execute_result"
    }
   ],
   "source": [
    "df['browser'].value_counts()"
   ]
  },
  {
   "cell_type": "code",
   "execution_count": 125,
   "id": "11cbba6d",
   "metadata": {},
   "outputs": [
    {
     "data": {
      "text/plain": [
       "<AxesSubplot:title={'center':'Browsers'}>"
      ]
     },
     "execution_count": 125,
     "metadata": {},
     "output_type": "execute_result"
    },
    {
     "data": {
      "image/png": "[encoded data removed]",
      "text/plain": [
       "<Figure size 432x288 with 1 Axes>"
      ]
     },
     "metadata": {
      "needs_background": "light"
     },
     "output_type": "display_data"
    }
   ],
   "source": [
    "df['browser'].value_counts().plot(kind='bar', title='Browsers')"
   ]
  },
  {
   "cell_type": "markdown",
   "id": "0dfb7f79",
   "metadata": {},
   "source": [
    "## Hour values plot"
   ]
  },
  {
   "cell_type": "code",
   "execution_count": 126,
   "id": "ceedab94",
   "metadata": {
    "scrolled": true
   },
   "outputs": [
    {
     "data": {
      "text/plain": [
       "<AxesSubplot:title={'center':'Hour values'}, ylabel='Density'>"
      ]
     },
     "execution_count": 126,
     "metadata": {},
     "output_type": "execute_result"
    },
    {
     "data": {
      "image/png": "[encoded data removed]",
      "text/plain": [
       "<Figure size 432x288 with 1 Axes>"
      ]
     },
     "metadata": {
      "needs_background": "light"
     },
     "output_type": "display_data"
    }
   ],
   "source": [
    "df['hour'].plot(kind='kde', title='Hour values')"
   ]
  },
  {
   "cell_type": "markdown",
   "id": "d11e837d",
   "metadata": {},
   "source": [
    "## Yes answers plot"
   ]
  },
  {
   "cell_type": "code",
   "execution_count": 127,
   "id": "619848f0",
   "metadata": {
    "scrolled": false
   },
   "outputs": [
    {
     "data": {
      "text/plain": [
       "<AxesSubplot:title={'center':'Yes Answers'}, ylabel='Density'>"
      ]
     },
     "execution_count": 127,
     "metadata": {},
     "output_type": "execute_result"
    },
    {
     "data": {
      "image/png": "[encoded data removed]",
      "text/plain": [
       "<Figure size 432x288 with 1 Axes>"
      ]
     },
     "metadata": {
      "needs_background": "light"
     },
     "output_type": "display_data"
    }
   ],
   "source": [
    "df['yes'].plot(kind='kde', title='Yes Answers')"
   ]
  },
  {
   "cell_type": "markdown",
   "id": "3e2695b2",
   "metadata": {},
   "source": [
    "## No answers plot"
   ]
  },
  {
   "cell_type": "code",
   "execution_count": 128,
   "id": "b95bc803",
   "metadata": {
    "scrolled": true
   },
   "outputs": [
    {
     "data": {
      "text/plain": [
       "<AxesSubplot:title={'center':'No Answers'}, ylabel='Density'>"
      ]
     },
     "execution_count": 128,
     "metadata": {},
     "output_type": "execute_result"
    },
    {
     "data": {
      "image/png": "[encoded data removed]",
      "text/plain": [
       "<Figure size 432x288 with 1 Axes>"
      ]
     },
     "metadata": {
      "needs_background": "light"
     },
     "output_type": "display_data"
    }
   ],
   "source": [
    "df['no'].plot(kind='kde', title='No Answers')"
   ]
  },
  {
   "cell_type": "markdown",
   "id": "433ba38c",
   "metadata": {},
   "source": [
    "## Platform_Os values plot"
   ]
  },
  {
   "cell_type": "code",
   "execution_count": 129,
   "id": "ba5cb409",
   "metadata": {},
   "outputs": [
    {
     "data": {
      "text/plain": [
       "<AxesSubplot:title={'center':'Platform_os'}, ylabel='Density'>"
      ]
     },
     "execution_count": 129,
     "metadata": {},
     "output_type": "execute_result"
    },
    {
     "data": {
      "image/png": "[encoded data removed]",
      "text/plain": [
       "<Figure size 432x288 with 1 Axes>"
      ]
     },
     "metadata": {
      "needs_background": "light"
     },
     "output_type": "display_data"
    }
   ],
   "source": [
    "df['platform_os'].plot(kind='kde', title='Platform_os')"
   ]
  },
  {
   "cell_type": "markdown",
   "id": "1aa65863",
   "metadata": {},
   "source": [
    "## XGBoost model"
   ]
  },
  {
   "cell_type": "markdown",
   "id": "3f1c7111",
   "metadata": {},
   "source": [
    "### Get index for entries with a 'yes' or 'no' answer"
   ]
  },
  {
   "cell_type": "code",
   "execution_count": 130,
   "id": "057dc60d",
   "metadata": {},
   "outputs": [],
   "source": [
    "answered_index = ((df['yes'] == 1) | (df['no'] ==1))"
   ]
  },
  {
   "cell_type": "markdown",
   "id": "9bd9b738",
   "metadata": {},
   "source": [
    "### Clean the data"
   ]
  },
  {
   "cell_type": "code",
   "execution_count": 131,
   "id": "a2333fe2",
   "metadata": {},
   "outputs": [],
   "source": [
    "cleaned_df = df[answered_index].copy()\n",
    "cleaned_df.reset_index(drop=True, inplace=True)          # reset the index"
   ]
  },
  {
   "cell_type": "markdown",
   "id": "1fd1d626",
   "metadata": {},
   "source": [
    "### Get the data for the modeling proccess"
   ]
  },
  {
   "cell_type": "code",
   "execution_count": 132,
   "id": "384d8a47",
   "metadata": {},
   "outputs": [],
   "source": [
    "model_df = cleaned_df[cleaned_df.columns[:-1]].copy()    # create data to be used for modeling\n",
    "model_df.rename(columns={'yes':'answer'}, inplace=True)  # rename the 'yes' column to 'answer'"
   ]
  },
  {
   "cell_type": "markdown",
   "id": "20ba1402",
   "metadata": {},
   "source": [
    "### Split data by browser and platform_os"
   ]
  },
  {
   "cell_type": "code",
   "execution_count": 133,
   "id": "fe099eee",
   "metadata": {},
   "outputs": [],
   "source": [
    "model_df_browser = model_df[['auction_id', 'experiment', 'date', 'hour', 'device_make', 'browser', 'answer']].copy()\n",
    "model_df_platform_os = model_df[['auction_id', 'experiment', 'date', 'hour', 'device_make', 'platform_os', 'answer']].copy()"
   ]
  },
  {
   "cell_type": "code",
   "execution_count": 134,
   "id": "51cc9bfa",
   "metadata": {},
   "outputs": [],
   "source": [
    " train_brwsr, test_brwsr, validate_brwsr  = \\\n",
    "              np.split(model_df_browser[model_df_browser.columns[1:]].sample(frac=1, random_state=42), \n",
    "                       [int(.7*len(model_df_browser)), int(.9*len(model_df_browser))])"
   ]
  },
  {
   "cell_type": "code",
   "execution_count": 135,
   "id": "c27cea4f",
   "metadata": {},
   "outputs": [],
   "source": [
    "brwsr_X_col = model_df_browser.columns[1:-1]\n",
    "\n",
    "brwsr_train =  train_brwsr[brwsr_X_col]\n",
    "brwsr_train_labels = train_brwsr['answer']\n",
    "\n",
    "brwsr_test =  brwsr_train[brwsr_X_col]\n",
    "brwsr_test_labels = train_brwsr['answer']\n",
    "\n",
    "brwsr_val =  train_brwsr[brwsr_X_col]\n",
    "brwsr_val_labels = train_brwsr['answer']"
   ]
  },
  {
   "cell_type": "code",
   "execution_count": 136,
   "id": "c88d352a",
   "metadata": {},
   "outputs": [],
   "source": [
    "numerical_browser = ['date','hour']\n",
    "cat_browser = ['experiment', 'device_make', 'browser']"
   ]
  },
  {
   "cell_type": "code",
   "execution_count": 137,
   "id": "da08fca0",
   "metadata": {},
   "outputs": [],
   "source": [
    "class ExtractDay(BaseEstimator, TransformerMixin):\n",
    "    def __init__(self): # no *args or **kargs\n",
    "        pass\n",
    "    def fit(self, X, y=None):\n",
    "        return self               # take the date column and pss to self\n",
    "    \n",
    "    def transform(self, X, y=None):\n",
    "        X = X.copy()\n",
    "        X['date'] = X['date'].apply(lambda x:x.weekday())\n",
    "        return X"
   ]
  },
  {
   "cell_type": "code",
   "execution_count": 138,
   "id": "cef7346a",
   "metadata": {},
   "outputs": [],
   "source": [
    "numerical_platform_os = ['date','hour','platform_os']\n",
    "cat_platform_os = ['experiment', 'device_make']"
   ]
  },
  {
   "cell_type": "code",
   "execution_count": 139,
   "id": "c446bde9",
   "metadata": {},
   "outputs": [],
   "source": [
    "num_pipeline = Pipeline([\n",
    "    ('day_extractor', ExtractDay()),\n",
    "    ('std_scaler', StandardScaler())\n",
    "])\n",
    "\n",
    "full_pipeline = ColumnTransformer([\n",
    "    ('num', num_pipeline, numerical_browser),\n",
    "    ('cat', OneHotEncoder(), numerical_browser)\n",
    "])"
   ]
  },
  {
   "cell_type": "code",
   "execution_count": 141,
   "id": "62ed1d2e",
   "metadata": {},
   "outputs": [],
   "source": [
    "brswr__train_processed = full_pipeline.fit_transform(brwsr_train)"
   ]
  },
  {
   "cell_type": "code",
   "execution_count": 144,
   "id": "d1752fe5",
   "metadata": {},
   "outputs": [],
   "source": [
    "xgbc = GradientBoostingClassifier()"
   ]
  },
  {
   "cell_type": "code",
   "execution_count": null,
   "id": "e4a2295a",
   "metadata": {},
   "outputs": [],
   "source": [
    "train_os, test_os, validate_so  = \\\n",
    "              np.split(model_df_platform_os[model_df_platform_os.columns[1:]].sample(frac=1, random_state=42), \n",
    "                       [int(.7*len(model_df_platform_os)), int(.9*len(model_df_platform_os))])"
   ]
  }
 ],
 "metadata": {
  "kernelspec": {
   "display_name": "Python 3",
   "language": "python",
   "name": "python3"
  },
  "language_info": {
   "codemirror_mode": {
    "name": "ipython",
    "version": 3
   },
   "file_extension": ".py",
   "mimetype": "text/x-python",
   "name": "python",
   "nbconvert_exporter": "python",
   "pygments_lexer": "ipython3",
   "version": "3.8.8"
  }
 },
 "nbformat": 4,
 "nbformat_minor": 5
}
